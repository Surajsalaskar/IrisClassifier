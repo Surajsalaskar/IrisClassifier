{
 "cells": [
  {
   "cell_type": "code",
   "execution_count": 1,
   "id": "fa2d552f",
   "metadata": {},
   "outputs": [],
   "source": [
    "import pandas as pd\n",
    "import numpy as np\n",
    "import matplotlib.pyplot as plt\n",
    "from flask import Flask,request\n",
    "import pickle\n",
    "from flasgger import Swagger\n"
   ]
  },
  {
   "cell_type": "code",
   "execution_count": 2,
   "id": "8d55d471",
   "metadata": {},
   "outputs": [],
   "source": [
    "with open('rf.pkl','rb') as model_file:\n",
    "    model = pickle.load(model_file)"
   ]
  },
  {
   "cell_type": "code",
   "execution_count": null,
   "id": "bdde8e7b",
   "metadata": {},
   "outputs": [
    {
     "name": "stdout",
     "output_type": "stream",
     "text": [
      " * Serving Flask app \"__main__\" (lazy loading)\n",
      " * Environment: production\n",
      "   WARNING: This is a development server. Do not use it in a production deployment.\n",
      "   Use a production WSGI server instead.\n",
      " * Debug mode: off\n"
     ]
    },
    {
     "name": "stderr",
     "output_type": "stream",
     "text": [
      " * Running on http://127.0.0.1:7000/ (Press CTRL+C to quit)\n"
     ]
    }
   ],
   "source": [
    "#for normal Get \n",
    "\n",
    "app = Flask(__name__)\n",
    "\n",
    "\n",
    "@app.route('/predition')\n",
    "def iris_pred():\n",
    "    s_length = request.args.get(\"s_length\")\n",
    "    s_width = request.args.get(\"s_width\")\n",
    "    p_length = request.args.get(\"p_length\")\n",
    "    p_width = request.args.get(\"p_width\")\n",
    "    \n",
    "    prediction = model.predict(np.array([[s_length,s_width,p_length,p_width]]))\n",
    "    \n",
    "    return str(prediction)\n",
    "\n",
    "               \n",
    "if __name__ =='__main__':\n",
    "    app.run(port='7000')"
   ]
  },
  {
   "cell_type": "code",
   "execution_count": null,
   "id": "9ff154ae",
   "metadata": {},
   "outputs": [
    {
     "name": "stdout",
     "output_type": "stream",
     "text": [
      " * Serving Flask app \"__main__\" (lazy loading)\n",
      " * Environment: production\n",
      "   WARNING: This is a development server. Do not use it in a production deployment.\n",
      "   Use a production WSGI server instead.\n",
      " * Debug mode: off\n"
     ]
    },
    {
     "name": "stderr",
     "output_type": "stream",
     "text": [
      " * Running on http://127.0.0.1:5000/ (Press CTRL+C to quit)\n"
     ]
    }
   ],
   "source": [
    "###for File Prediction\n",
    "\n",
    "app = Flask(__name__)\n",
    "\n",
    "@app.route('/predition_file',methods = ['POST'])\n",
    "def iris_file_pred():\n",
    "    input_data = pd.read_csv(request.files.get(\"input_file\"),header=None)\n",
    "    \n",
    "    prediction = model.predict(input_data)\n",
    "    \n",
    "    return str(list(prediction))\n",
    "if __name__ =='__main__':\n",
    "               app.run()\n",
    "    "
   ]
  },
  {
   "cell_type": "code",
   "execution_count": null,
   "id": "853745eb",
   "metadata": {},
   "outputs": [
    {
     "name": "stdout",
     "output_type": "stream",
     "text": [
      " * Serving Flask app \"__main__\" (lazy loading)\n",
      " * Environment: production\n",
      "   WARNING: This is a development server. Do not use it in a production deployment.\n",
      "   Use a production WSGI server instead.\n",
      " * Debug mode: off\n"
     ]
    },
    {
     "name": "stderr",
     "output_type": "stream",
     "text": [
      " * Running on http://127.0.0.1:5000/ (Press CTRL+C to quit)\n",
      "127.0.0.1 - - [17/Jul/2021 23:23:00] \"\u001b[37mGET /apidocs/ HTTP/1.1\u001b[0m\" 200 -\n",
      "127.0.0.1 - - [17/Jul/2021 23:23:00] \"\u001b[37mGET /apispec_1.json HTTP/1.1\u001b[0m\" 200 -\n",
      "127.0.0.1 - - [17/Jul/2021 23:23:00] \"\u001b[37mGET /flasgger_static/favicon-32x32.png HTTP/1.1\u001b[0m\" 200 -\n",
      "127.0.0.1 - - [17/Jul/2021 23:23:26] \"\u001b[37mPOST /predition_file HTTP/1.1\u001b[0m\" 200 -\n",
      "127.0.0.1 - - [17/Jul/2021 23:23:29] \"\u001b[37mPOST /predition_file HTTP/1.1\u001b[0m\" 200 -\n",
      "127.0.0.1 - - [17/Jul/2021 23:23:30] \"\u001b[37mPOST /predition_file HTTP/1.1\u001b[0m\" 200 -\n",
      "127.0.0.1 - - [17/Jul/2021 23:24:10] \"\u001b[37mPOST /predition_file HTTP/1.1\u001b[0m\" 200 -\n",
      "127.0.0.1 - - [17/Jul/2021 23:24:15] \"\u001b[37mPOST /predition_file HTTP/1.1\u001b[0m\" 200 -\n",
      "127.0.0.1 - - [17/Jul/2021 23:24:16] \"\u001b[37mPOST /predition_file HTTP/1.1\u001b[0m\" 200 -\n",
      "127.0.0.1 - - [17/Jul/2021 23:24:17] \"\u001b[37mPOST /predition_file HTTP/1.1\u001b[0m\" 200 -\n",
      "127.0.0.1 - - [17/Jul/2021 23:24:17] \"\u001b[37mPOST /predition_file HTTP/1.1\u001b[0m\" 200 -\n",
      "127.0.0.1 - - [17/Jul/2021 23:24:18] \"\u001b[37mPOST /predition_file HTTP/1.1\u001b[0m\" 200 -\n",
      "127.0.0.1 - - [17/Jul/2021 23:24:19] \"\u001b[37mPOST /predition_file HTTP/1.1\u001b[0m\" 200 -\n",
      "127.0.0.1 - - [17/Jul/2021 23:24:31] \"\u001b[37mPOST /predition_file HTTP/1.1\u001b[0m\" 200 -\n",
      "127.0.0.1 - - [17/Jul/2021 23:24:57] \"\u001b[37mPOST /predition_file HTTP/1.1\u001b[0m\" 200 -\n",
      "127.0.0.1 - - [17/Jul/2021 23:26:27] \"\u001b[37mPOST /predition_file HTTP/1.1\u001b[0m\" 200 -\n",
      "127.0.0.1 - - [17/Jul/2021 23:26:30] \"\u001b[37mPOST /predition_file HTTP/1.1\u001b[0m\" 200 -\n",
      "127.0.0.1 - - [17/Jul/2021 23:26:31] \"\u001b[37mPOST /predition_file HTTP/1.1\u001b[0m\" 200 -\n",
      "127.0.0.1 - - [17/Jul/2021 23:26:32] \"\u001b[37mPOST /predition_file HTTP/1.1\u001b[0m\" 200 -\n",
      "127.0.0.1 - - [17/Jul/2021 23:26:33] \"\u001b[37mPOST /predition_file HTTP/1.1\u001b[0m\" 200 -\n",
      "127.0.0.1 - - [17/Jul/2021 23:26:33] \"\u001b[37mPOST /predition_file HTTP/1.1\u001b[0m\" 200 -\n",
      "127.0.0.1 - - [17/Jul/2021 23:28:46] \"\u001b[37mPOST /predition_file HTTP/1.1\u001b[0m\" 200 -\n",
      "127.0.0.1 - - [17/Jul/2021 23:28:51] \"\u001b[37mGET /apidocs/ HTTP/1.1\u001b[0m\" 200 -\n",
      "127.0.0.1 - - [17/Jul/2021 23:28:52] \"\u001b[37mGET /apispec_1.json HTTP/1.1\u001b[0m\" 200 -\n",
      "127.0.0.1 - - [17/Jul/2021 23:29:11] \"\u001b[37mPOST /predition_file HTTP/1.1\u001b[0m\" 200 -\n",
      "127.0.0.1 - - [17/Jul/2021 23:29:15] \"\u001b[37mPOST /predition_file HTTP/1.1\u001b[0m\" 200 -\n",
      "127.0.0.1 - - [17/Jul/2021 23:29:24] \"\u001b[37mPOST /predition_file HTTP/1.1\u001b[0m\" 200 -\n",
      "127.0.0.1 - - [17/Jul/2021 23:29:25] \"\u001b[37mPOST /predition_file HTTP/1.1\u001b[0m\" 200 -\n",
      "127.0.0.1 - - [17/Jul/2021 23:29:26] \"\u001b[37mPOST /predition_file HTTP/1.1\u001b[0m\" 200 -\n",
      "127.0.0.1 - - [17/Jul/2021 23:29:26] \"\u001b[37mPOST /predition_file HTTP/1.1\u001b[0m\" 200 -\n",
      "127.0.0.1 - - [17/Jul/2021 23:29:26] \"\u001b[37mPOST /predition_file HTTP/1.1\u001b[0m\" 200 -\n"
     ]
    }
   ],
   "source": [
    "#Using flasgger\n",
    "app = Flask(__name__)\n",
    "swagger = Swagger(app)\n",
    "\n",
    "\n",
    "@app.route('/predition_file',methods = ['POST'])\n",
    "def iris_file_pred():\n",
    "    \"\"\"Example endpoint returningg a prediction of iris\n",
    "    This is  using docstring specifications.\n",
    "    ----\n",
    "    parameters:\n",
    "        - name: input_file\n",
    "          in: formData\n",
    "          type: file\n",
    "          required: true\n",
    "    \"\"\"\n",
    "    input_data = pd.read_csv(request.files.get(\"input_file\"),header=None)\n",
    "    \n",
    "    prediction = model.predict(input_data)\n",
    "    \n",
    "    return str(list(prediction))\n",
    "if __name__ =='__main__':\n",
    "               app.run()"
   ]
  },
  {
   "cell_type": "code",
   "execution_count": null,
   "id": "196c2801",
   "metadata": {},
   "outputs": [],
   "source": []
  }
 ],
 "metadata": {
  "kernelspec": {
   "display_name": "Python 3",
   "language": "python",
   "name": "python3"
  },
  "language_info": {
   "codemirror_mode": {
    "name": "ipython",
    "version": 3
   },
   "file_extension": ".py",
   "mimetype": "text/x-python",
   "name": "python",
   "nbconvert_exporter": "python",
   "pygments_lexer": "ipython3",
   "version": "3.8.8"
  }
 },
 "nbformat": 4,
 "nbformat_minor": 5
}
